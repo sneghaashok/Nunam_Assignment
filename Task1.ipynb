{
 "cells": [
  {
   "cell_type": "code",
   "execution_count": 13,
   "metadata": {},
   "outputs": [],
   "source": [
    "import pandas as pd\n",
    "import numpy as np\n",
    "import os, collections, csv\n",
    "from os.path import basename"
   ]
  },
  {
   "cell_type": "code",
   "execution_count": 15,
   "metadata": {},
   "outputs": [],
   "source": [
    "#To read the excel file data\n",
    "sheets=pd.read_excel(\"data.xlsx\",sheet_name=None)"
   ]
  },
  {
   "cell_type": "code",
   "execution_count": 25,
   "metadata": {},
   "outputs": [],
   "source": [
    "#To read the excel file data of data_1\n",
    "sheets_temp=pd.read_excel(\"data_1.xlsx\",sheet_name=None)"
   ]
  },
  {
   "cell_type": "code",
   "execution_count": 27,
   "metadata": {},
   "outputs": [],
   "source": [
    "details=pd.DataFrame()\n",
    "detailsVol=pd.DataFrame()\n",
    "detailsTemp=pd.DataFrame()\n",
    "for i in sheets.keys():\n",
    "    if('Detail_67_' in i):\n",
    "        df=sheets[i]\n",
    "        details = pd.concat([details, df])\n",
    "    elif('DetailVol_67_' in i):\n",
    "        dfVol=sheets[i]\n",
    "        detailsVol=pd.concat([detailsVol,dfVol])\n",
    "    elif('DetailTemp_67_' in i):\n",
    "        dfTemp=sheets[i]\n",
    "        detailsTemp=pd.concat([detailsTemp,dfTemp])\n",
    "for i in sheets_temp.keys():\n",
    "    if('DetailTemp_67_' in i):\n",
    "        dfTemp=sheets_temp[i]\n",
    "        detailsTemp=pd.concat([detailsTemp,dfTemp])\n",
    "details.to_csv(\"detail.csv\")\n",
    "detailsVol.to_csv(\"detailVol.csv\")\n",
    "detailsTemp.to_csv(\"detailTemp.csv\")"
   ]
  },
  {
   "cell_type": "code",
   "execution_count": null,
   "metadata": {},
   "outputs": [],
   "source": []
  }
 ],
 "metadata": {
  "kernelspec": {
   "display_name": "Python 3",
   "language": "python",
   "name": "python3"
  },
  "language_info": {
   "codemirror_mode": {
    "name": "ipython",
    "version": 3
   },
   "file_extension": ".py",
   "mimetype": "text/x-python",
   "name": "python",
   "nbconvert_exporter": "python",
   "pygments_lexer": "ipython3",
   "version": "3.7.4"
  }
 },
 "nbformat": 4,
 "nbformat_minor": 2
}
